{
 "cells": [
  {
   "cell_type": "code",
   "execution_count": null,
   "id": "e36ff085",
   "metadata": {},
   "outputs": [],
   "source": [
    "import wave\n",
    "\n",
    "def case(a):\n",
    "\tif a == 1:\n",
    "\t\tencode()\n",
    "\telif a == 2:\n",
    "\t\tdecode()\n",
    "\telif a == 3:\n",
    "\t\tquit()\n",
    "\telse:\n",
    "\t\tprint(\"\\nEnter valid Choice!\")\n",
    "\n",
    "def encode():\n",
    "\tprint(\"\\nEncoding Starts..\")\n",
    "\taudio = wave.open(\"sample.wav\",mode=\"rb\")\n",
    "\tframe_bytes = bytearray(list(audio.readframes(audio.getnframes())))\n",
    "\tstring = str(input(\"Enter secret text: \"))\n",
    "\tprint(string)\n",
    "\tstring = string + int((len(frame_bytes)-(len(string)*8*8))/8) *'#'\n",
    "\tbits = list(map(int, ''.join([bin(ord(i)).lstrip('0b').rjust(8,'0') for i in string])))\n",
    "\tfor i, bit in enumerate(bits):\n",
    "\t    frame_bytes[i] = (frame_bytes[i] & 254) | bit\n",
    "\tframe_modified = bytes(frame_bytes)\n",
    "\tfor i in range(0,10):\n",
    "\t\tprint(frame_bytes[i])\n",
    "\tnewfile = str(input(\"Save encoded file as: \"))\n",
    "\tnewAudio =  wave.open(newfile, 'wb')\n",
    "\tnewAudio.setparams(audio.getparams())\n",
    "\tnewAudio.writeframes(frame_modified)\n",
    "\n",
    "\tnewAudio.close()\n",
    "\taudio.close()\n",
    "\tprint(\" |---->succesfully encoded inside \"+newfile)\n",
    "\n",
    "def decode():\n",
    "\tprint(\"\\nDecoding Starts..\")\n",
    "\topenfile = str(input(\"Open file to decode: \"))\n",
    "\taudio = wave.open(openfile, mode='rb')\n",
    "\tframe_bytes = bytearray(list(audio.readframes(audio.getnframes())))\n",
    "\textracted = [frame_bytes[i] & 1 for i in range(len(frame_bytes))]\n",
    "\tstring = \"\".join(chr(int(\"\".join(map(str,extracted[i:i+8])),2)) for i in range(0,len(extracted),8))\n",
    "\tdecoded = string.split(\"###\")[0]\n",
    "\tprint(\"Sucessfully decoded: \"+decoded)\n",
    "\taudio.close()\t\n",
    "\n",
    "while(1):\n",
    "\tprint(\"\\nSelect an option: \\n1)Encode\\n2)Decode\\n3)exit\")\n",
    "\tval = int(input(\"\\nChoice:\"))\n",
    "\tcase(val)\n",
    "\tif(val==3):\n",
    "\t\tbreak\n",
    "    "
   ]
  },
  {
   "cell_type": "code",
   "execution_count": null,
   "id": "ed7d35be",
   "metadata": {},
   "outputs": [],
   "source": []
  },
  {
   "cell_type": "code",
   "execution_count": null,
   "id": "36381b2b",
   "metadata": {},
   "outputs": [],
   "source": []
  },
  {
   "cell_type": "code",
   "execution_count": null,
   "id": "3202a699",
   "metadata": {},
   "outputs": [],
   "source": []
  }
 ],
 "metadata": {
  "kernelspec": {
   "display_name": "Python 3 (ipykernel)",
   "language": "python",
   "name": "python3"
  },
  "language_info": {
   "codemirror_mode": {
    "name": "ipython",
    "version": 3
   },
   "file_extension": ".py",
   "mimetype": "text/x-python",
   "name": "python",
   "nbconvert_exporter": "python",
   "pygments_lexer": "ipython3",
   "version": "3.9.6"
  }
 },
 "nbformat": 4,
 "nbformat_minor": 5
}
